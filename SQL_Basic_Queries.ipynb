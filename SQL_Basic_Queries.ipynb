{
  "nbformat": 4,
  "nbformat_minor": 0,
  "metadata": {
    "colab": {
      "provenance": []
    },
    "kernelspec": {
      "name": "python3",
      "display_name": "Python 3"
    },
    "language_info": {
      "name": "python"
    }
  },
  "cells": [
    {
      "cell_type": "code",
      "execution_count": 1,
      "metadata": {
        "id": "-71rQnM9V_vZ"
      },
      "outputs": [],
      "source": [
        "%load_ext sql"
      ]
    },
    {
      "cell_type": "code",
      "source": [
        "%sql sqlite:///ngo_data.db"
      ],
      "metadata": {
        "id": "nzaUGZB1WgjH"
      },
      "execution_count": 2,
      "outputs": []
    },
    {
      "cell_type": "markdown",
      "source": [
        "- Beneficiary Partner Data table\n"
      ],
      "metadata": {
        "id": "5C_8vpNmfuKz"
      }
    },
    {
      "cell_type": "code",
      "source": [
        "%%sql CREATE TABLE Beneficiary_Data (\n",
        "    partner_id INT,\n",
        "    partner VARCHAR(30) NOT NULL,\n",
        "    village VARCHAR(30) NOT NULL,\n",
        "    beneficiaries INT,\n",
        "    beneficiary_type VARCHAR(30),\n",
        "    PRIMARY KEY (partner_id, village),\n",
        "    FOREIGN KEY (village) REFERENCES Village_Location(village)\n",
        ");\n"
      ],
      "metadata": {
        "colab": {
          "base_uri": "https://localhost:8080/"
        },
        "id": "jQA8oKmjaM_m",
        "outputId": "a18267f4-ce82-40d5-b71b-da8822f0f15d"
      },
      "execution_count": 6,
      "outputs": [
        {
          "output_type": "stream",
          "name": "stdout",
          "text": [
            " * sqlite:///ngo_data.db\n",
            "(sqlite3.OperationalError) table Beneficiary_Data already exists\n",
            "[SQL: CREATE TABLE Beneficiary_Data (\n",
            "    partner_id INT,\n",
            "    partner VARCHAR(30) NOT NULL,\n",
            "    village VARCHAR(30) NOT NULL,\n",
            "    beneficiaries INT,\n",
            "    beneficiary_type VARCHAR(30),\n",
            "    PRIMARY KEY (partner_id, village),\n",
            "    FOREIGN KEY (village) REFERENCES Village_Location(village)\n",
            ");]\n",
            "(Background on this error at: https://sqlalche.me/e/20/e3q8)\n"
          ]
        }
      ]
    },
    {
      "cell_type": "markdown",
      "source": [
        "- SQL script for district summary\n"
      ],
      "metadata": {
        "id": "xkn8Xr2bdkIV"
      }
    },
    {
      "cell_type": "code",
      "source": [
        "%%sql CREATE VIEW District_summary AS\n",
        "SELECT\n",
        "    J.District_Name AS District_Name,\n",
        "    J.Region_Name AS Region_Name,\n",
        "    SUM(BD.beneficiaries) AS No_of_Individual_Beneficiaries,\n",
        "    SUM(BD.beneficiaries) / D.Total_Population AS Beneficiaries_to_Population_Ratio\n",
        "FROM\n",
        "    Beneficiary_Data BD\n",
        "JOIN\n",
        "    Jurisdiction_Hierarchy J ON BD.village = J.Village\n",
        "JOIN\n",
        "    District_Population D ON J.District_Name = D.District_Name\n",
        "GROUP BY\n",
        "    J.District_Name, J.Region_Name, D.Total_Population;"
      ],
      "metadata": {
        "colab": {
          "base_uri": "https://localhost:8080/"
        },
        "id": "fuVmMF0ZdpJK",
        "outputId": "46c55f08-ac99-4016-f99c-4d1f5ff94bf2"
      },
      "execution_count": 4,
      "outputs": [
        {
          "output_type": "stream",
          "name": "stdout",
          "text": [
            " * sqlite:///ngo_data.db\n",
            "Done.\n"
          ]
        },
        {
          "output_type": "execute_result",
          "data": {
            "text/plain": [
              "[]"
            ]
          },
          "metadata": {},
          "execution_count": 4
        }
      ]
    },
    {
      "cell_type": "markdown",
      "source": [
        "- SQL script for partner summary"
      ],
      "metadata": {
        "id": "V7-DKUEPd8qJ"
      }
    },
    {
      "cell_type": "code",
      "source": [
        "%%sql CREATE VIEW Partner_summary AS\n",
        "SELECT\n",
        "    BD.partner AS Partner_Name,\n",
        "    COUNT(DISTINCT BD.village) AS No_of_Villages_reached_by_partner,\n",
        "    COUNT(DISTINCT J.District_Name) AS No_of_Districts_reached_by_partner\n",
        "FROM\n",
        "    Beneficiary_Data BD\n",
        "JOIN\n",
        "    Jurisdiction_Hierarchy J ON BD.village = J.Village\n",
        "GROUP BY\n",
        "    BD.partner;"
      ],
      "metadata": {
        "colab": {
          "base_uri": "https://localhost:8080/"
        },
        "id": "olPlRtAgeIs_",
        "outputId": "e4242e74-34ea-486e-d2bc-fabc811b9682"
      },
      "execution_count": 5,
      "outputs": [
        {
          "output_type": "stream",
          "name": "stdout",
          "text": [
            " * sqlite:///ngo_data.db\n",
            "Done.\n"
          ]
        },
        {
          "output_type": "execute_result",
          "data": {
            "text/plain": [
              "[]"
            ]
          },
          "metadata": {},
          "execution_count": 5
        }
      ]
    }
  ]
}